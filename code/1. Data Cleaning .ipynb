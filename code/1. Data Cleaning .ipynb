{
 "cells": [
  {
   "cell_type": "code",
   "execution_count": 2,
   "metadata": {},
   "outputs": [],
   "source": [
    "import pickle\n",
    "import matplotlib.pyplot as plt\n",
    "import matplotlib\n",
    "import numpy as np\n",
    "from datetime import datetime\n",
    "from nltk.tokenize import sent_tokenize\n",
    "import fasttext\n",
    "import pandas as pd\n",
    "import string\n",
    "import nltk\n",
    "\n",
    "%matplotlib inline"
   ]
  },
  {
   "cell_type": "code",
   "execution_count": 3,
   "metadata": {},
   "outputs": [],
   "source": [
    "# load file\n",
    "file_Name = './data/url_tweets_news_100k.p'\n",
    "fileObject = open(file_Name,'rb')  \n",
    "p1 = pickle.load(fileObject)\n",
    "\n",
    "# stop_words = []\n",
    "# with open('./util/stop_words.txt') as f:\n",
    "#     for line in f:\n",
    "#         stop_words.append(line.strip())"
   ]
  },
  {
   "cell_type": "code",
   "execution_count": 4,
   "metadata": {},
   "outputs": [
    {
     "data": {
      "text/plain": [
       "221147"
      ]
     },
     "execution_count": 4,
     "metadata": {},
     "output_type": "execute_result"
    }
   ],
   "source": [
    "file_Name2 = './data/news_tweets_120k.p'\n",
    "fileObject2 = open(file_Name2,'rb')  \n",
    "p2 = pickle.load(fileObject2)\n",
    "p = {**p1, **p2}\n",
    "len(p)"
   ]
  },
  {
   "cell_type": "code",
   "execution_count": 5,
   "metadata": {},
   "outputs": [],
   "source": [
    "# statistics for tweets series \n",
    "MAX_SPAN =  24 # in hours\n",
    "INTERVAL = 0.5 # in hours"
   ]
  },
  {
   "cell_type": "markdown",
   "metadata": {},
   "source": [
    "# Load data and form basic dataframe"
   ]
  },
  {
   "cell_type": "code",
   "execution_count": 6,
   "metadata": {},
   "outputs": [],
   "source": [
    "punctuation = set(string.punctuation)\n",
    "from string import ascii_letters, digits\n",
    "\n",
    "def ExtractAlphanumeric(InputString):\n",
    "    return \"\".join([ch for ch in InputString if ch in (ascii_letters + digits+''.join(punctuation)+' '+'\\n')])\n",
    "\n",
    "def cut_sentences(text, min_len, max_len):\n",
    "    text = ExtractAlphanumeric(text)\n",
    "    paragraph_list = text.split('\\n\\n')\n",
    "    sent_list = [sent_tokenize(i) for i in paragraph_list]\n",
    "    sent_list = [y for x in sent_list for y in x]\n",
    "    sent_list = [''.join([j for j in i if j not in punctuation]) for i in sent_list]\n",
    "    return [i for i in sent_list if len(i)<max_len and len(i)>min_len]\n",
    "\n",
    "def cut_paragraphs(text, min_len, max_len):\n",
    "    text = ExtractAlphanumeric(text)\n",
    "    paragraph_list = text.split('\\n\\n')\n",
    "#     paragraph_list = [''.join([j for j in i if j not in punctuation]) for i in paragraph_list]\n",
    "    return [i for i in paragraph_list if len(i)<max_len and len(i)>min_len]"
   ]
  },
  {
   "cell_type": "code",
   "execution_count": 7,
   "metadata": {},
   "outputs": [
    {
     "name": "stdout",
     "output_type": "stream",
     "text": [
      "Number of news is: 221147\n"
     ]
    }
   ],
   "source": [
    "# form basic dataframe\n",
    "df = pd.DataFrame({'url': list(p.keys())})\n",
    "df['news_text'] = df['url'].apply(lambda x: p[x]['news']['text'])\n",
    "df['news_title'] = df['url'].apply(lambda x: p[x]['news']['title'])\n",
    "df['news_publish_timestamp_ms'] = df['url'].apply(lambda x: p[x]['news']['publish_timestamp_ms'])\n",
    "df['publisher'] = df['url'].apply(lambda x: x.split('/')[2].replace('www.',''))\n",
    "df['news_publish_datetime'] = df['news_publish_timestamp_ms'].apply(lambda x: datetime.fromtimestamp(x/1000))\n",
    "df['sentences'] = df['news_text'].apply(lambda x: cut_sentences(x, 30, 400))\n",
    "df['num_sentences'] = df['sentences'].apply(lambda x: len(x))\n",
    "# df['news_tokens'] = df['news_text'].apply(lambda x: nltk.word_tokenize(''.join(i for i in x if ord(i)<256)))\n",
    "# df['news_len'] = df['news_tokens'].apply(lambda x: len(x))\n",
    "# df['news_words'] = df['news_tokens'].apply(lambda x: [i.lower() for i in x if i.lower() not in stop_words and len(i)>1])\n",
    "df['amount_tweets'] = df['url'].apply(lambda x: len(p[x]['tweets']))\n",
    "df['news_publish_year'] = df['news_publish_datetime'].apply(lambda x: x.year)\n",
    "df['news_lifespan_h'] = df['url'].apply(lambda x: ((p[x]['tweets'][-1]['timestamp_ms'] - p[x]['tweets'][0]['timestamp_ms'])/1000/3600))\n",
    "\n",
    "print('Number of news is:', len(df))"
   ]
  },
  {
   "cell_type": "code",
   "execution_count": 10,
   "metadata": {},
   "outputs": [],
   "source": [
    "num_sent = list(df.groupby(['num_sentences']).count().index)\n",
    "num_num_sent = list(df.groupby(['num_sentences']).count()['url'])"
   ]
  },
  {
   "cell_type": "code",
   "execution_count": 11,
   "metadata": {},
   "outputs": [
    {
     "data": {
      "image/png": "[encoded data removed]",
      "text/plain": [
       "<Figure size 576x360 with 1 Axes>"
      ]
     },
     "metadata": {},
     "output_type": "display_data"
    }
   ],
   "source": [
    "plt.figure(figsize = (8,5))\n",
    "plt.plot(num_sent[:200], num_num_sent[:200])\n",
    "plt.grid()\n",
    "plt.show()"
   ]
  },
  {
   "cell_type": "markdown",
   "metadata": {},
   "source": [
    "# Clean news"
   ]
  },
  {
   "cell_type": "code",
   "execution_count": 12,
   "metadata": {},
   "outputs": [],
   "source": [
    "def truncate_sent(x):\n",
    "    if x['num_sentences']>50:\n",
    "        return x['sentences'][:50]\n",
    "    else:\n",
    "        return x['sentences']\n",
    "\n",
    "df1 = df.copy()\n",
    "# clean news: remove wrong time data; remove non-alphabetic news;\n",
    "# check urls\n",
    "publishers = []\n",
    "with open('./util/publisher.txt') as f:\n",
    "    for i in f:\n",
    "        publishers.append(i.strip())\n",
    "df1['check_url'] = df1['publisher'].apply(lambda x: 1 if x in publishers else 0)\n",
    "df1 = df1[df1['check_url']==1]\n",
    "\n",
    "# short news: there are also many short news < 100 words but >100 comment, most ads.\n",
    "# ************as we are not talking about tweet span in the first part, we do not consider life span.***********\n",
    "# # for enough life_span:\n",
    "# df1 = df1[df1['news_lifespan_h']>MAX_SPAN]\n",
    "# for right publish year: \n",
    "df1 = df1[df1['news_publish_year']>2017]\n",
    "df1 = df1[df1['news_publish_year']<2020]\n",
    "# for proper length of news:\n",
    "df1 = df1[df1['num_sentences'] > 5]\n",
    "# trunctuate long news: 94.14% of news are shorter than 50 sentences; if a news longer\n",
    "# than 50 sentences, we just keep first 50 sentences of it.\n",
    "df1['sentences'] = df1.apply(lambda x: truncate_sent(x), axis=1)\n",
    "df1['num_sentences'] = df1['sentences'].apply(lambda x: len(x))"
   ]
  },
  {
   "cell_type": "code",
   "execution_count": 13,
   "metadata": {},
   "outputs": [],
   "source": [
    "df1 = df1.reset_index(drop=True)"
   ]
  },
  {
   "cell_type": "code",
   "execution_count": 14,
   "metadata": {},
   "outputs": [
    {
     "data": {
      "text/plain": [
       "3379"
      ]
     },
     "execution_count": 14,
     "metadata": {},
     "output_type": "execute_result"
    }
   ],
   "source": [
    "num = list(df1['amount_tweets'])\n",
    "sum([1 for i in num if i>20])"
   ]
  },
  {
   "cell_type": "code",
   "execution_count": 15,
   "metadata": {},
   "outputs": [],
   "source": [
    "df1.to_pickle('./data/cleaned_data.pkl')"
   ]
  },
  {
   "cell_type": "code",
   "execution_count": 8,
   "metadata": {},
   "outputs": [],
   "source": [
    "df1=pd.read_pickle('./data/cleaned_data.pkl')"
   ]
  },
  {
   "cell_type": "code",
   "execution_count": 14,
   "metadata": {},
   "outputs": [
    {
     "data": {
      "image/png": "[encoded data removed]",
      "text/plain": [
       "<Figure size 576x360 with 1 Axes>"
      ]
     },
     "metadata": {},
     "output_type": "display_data"
    }
   ],
   "source": [
    "list_tweet_num = list(df['amount_tweets'])\n",
    "tweet_num = list(df1['amount_tweets'])\n",
    "t = np.linspace(0, 30, 31)\n",
    "d = []\n",
    "d1 = []\n",
    "for i in t:\n",
    "    d.append(sum([1 for num in list_tweet_num if num == i]))\n",
    "    d1.append(sum([1 for num in tweet_num if num == i]))\n",
    "    \n",
    "plt.figure(figsize = (8,5))\n",
    "l1 = plt.plot(t,d)\n",
    "plt.scatter(t,d,marker='s', label = 'former')\n",
    "l2 = plt.plot(t,d1)\n",
    "plt.scatter(t,d1, label='cleaned')\n",
    "plt.xlabel('number of tweets')\n",
    "plt.ylabel('number of news')\n",
    "plt.title('Distribution of tweets')\n",
    "plt.grid(which='major')\n",
    "plt.legend(loc='upper right')\n",
    "foo_fig = plt.gcf()\n",
    "foo_fig.savefig('distribution.eps', format='eps', dpi=1000)"
   ]
  },
  {
   "cell_type": "markdown",
   "metadata": {},
   "source": [
    "# clean json data"
   ]
  },
  {
   "cell_type": "code",
   "execution_count": 17,
   "metadata": {},
   "outputs": [],
   "source": [
    "url_list = list(df1['url'])\n",
    "cleaned_dict = {}\n",
    "for i in url_list:\n",
    "    cleaned_dict[i] = p[i]"
   ]
  },
  {
   "cell_type": "code",
   "execution_count": 18,
   "metadata": {},
   "outputs": [],
   "source": [
    "with open('./data/220k_cleaned.p','wb') as f:\n",
    "    pickle.dump(cleaned_dict, f, protocol=pickle.HIGHEST_PROTOCOL)"
   ]
  },
  {
   "cell_type": "code",
   "execution_count": null,
   "metadata": {},
   "outputs": [],
   "source": []
  }
 ],
 "metadata": {
  "kernelspec": {
   "display_name": "Python 3",
   "language": "python",
   "name": "python3"
  },
  "language_info": {
   "codemirror_mode": {
    "name": "ipython",
    "version": 3
   },
   "file_extension": ".py",
   "mimetype": "text/x-python",
   "name": "python",
   "nbconvert_exporter": "python",
   "pygments_lexer": "ipython3",
   "version": "3.6.5"
  }
 },
 "nbformat": 4,
 "nbformat_minor": 2
}
