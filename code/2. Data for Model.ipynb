{
 "cells": [
  {
   "cell_type": "code",
   "execution_count": 1,
   "metadata": {},
   "outputs": [],
   "source": [
    "import matplotlib.pyplot as plt\n",
    "import matplotlib\n",
    "import numpy as np\n",
    "import pandas as pd\n",
    "import random\n",
    "import pickle as pickle\n",
    "\n",
    "%matplotlib inline"
   ]
  },
  {
   "cell_type": "code",
   "execution_count": 2,
   "metadata": {},
   "outputs": [
    {
     "ename": "KeyboardInterrupt",
     "evalue": "",
     "output_type": "error",
     "traceback": [
      "\u001b[0;31m---------------------------------------------------------------------------\u001b[0m",
      "\u001b[0;31mKeyboardInterrupt\u001b[0m                         Traceback (most recent call last)",
      "\u001b[0;32m<ipython-input-2-2436f38c9740>\u001b[0m in \u001b[0;36m<module>\u001b[0;34m()\u001b[0m\n\u001b[1;32m      1\u001b[0m \u001b[0;32mwith\u001b[0m \u001b[0mopen\u001b[0m\u001b[0;34m(\u001b[0m\u001b[0;34m'./data/220k_cleaned.p'\u001b[0m\u001b[0;34m,\u001b[0m\u001b[0;34m'rb'\u001b[0m\u001b[0;34m)\u001b[0m \u001b[0;32mas\u001b[0m \u001b[0mf\u001b[0m\u001b[0;34m:\u001b[0m\u001b[0;34m\u001b[0m\u001b[0m\n\u001b[0;32m----> 2\u001b[0;31m     \u001b[0mp\u001b[0m \u001b[0;34m=\u001b[0m \u001b[0mpickle\u001b[0m\u001b[0;34m.\u001b[0m\u001b[0mload\u001b[0m\u001b[0;34m(\u001b[0m\u001b[0mf\u001b[0m\u001b[0;34m)\u001b[0m\u001b[0;34m\u001b[0m\u001b[0m\n\u001b[0m\u001b[1;32m      3\u001b[0m \u001b[0mdf_cleaned\u001b[0m \u001b[0;34m=\u001b[0m \u001b[0mpd\u001b[0m\u001b[0;34m.\u001b[0m\u001b[0mread_pickle\u001b[0m\u001b[0;34m(\u001b[0m\u001b[0;34m'./data/cleaned_data.pkl'\u001b[0m\u001b[0;34m)\u001b[0m\u001b[0;34m\u001b[0m\u001b[0m\n\u001b[1;32m      4\u001b[0m \u001b[0mlen\u001b[0m\u001b[0;34m(\u001b[0m\u001b[0mp\u001b[0m\u001b[0;34m)\u001b[0m\u001b[0;34m\u001b[0m\u001b[0m\n",
      "\u001b[0;31mKeyboardInterrupt\u001b[0m: "
     ]
    }
   ],
   "source": [
    "with open('./data/220k_cleaned.p','rb') as f:\n",
    "    p = pickle.load(f)\n",
    "df_cleaned = pd.read_pickle('./data/cleaned_data.pkl')\n",
    "len(p)"
   ]
  },
  {
   "cell_type": "code",
   "execution_count": null,
   "metadata": {},
   "outputs": [],
   "source": [
    "# anormal = []\n",
    "# for key in p:\n",
    "#     if p[key]['news']['publish_timestamp_ms'] > p[key]['tweets'][0]['timestamp_ms']:\n",
    "#         anormal.append(key)\n",
    "# len(anormal)"
   ]
  },
  {
   "cell_type": "markdown",
   "metadata": {},
   "source": [
    "# 1. prepare time_series data"
   ]
  },
  {
   "cell_type": "code",
   "execution_count": 3,
   "metadata": {},
   "outputs": [],
   "source": [
    "MAX_SPAN =  24 # in hours\n",
    "INTERVAL = 0.25 # in hours\n",
    "GATHER_POINT = 10 # in hours"
   ]
  },
  {
   "cell_type": "code",
   "execution_count": 4,
   "metadata": {},
   "outputs": [],
   "source": [
    "df = pd.DataFrame({'url':list(p.keys())})"
   ]
  },
  {
   "cell_type": "code",
   "execution_count": 5,
   "metadata": {},
   "outputs": [],
   "source": [
    "# calculate time difference and save it in original dict\n",
    "# time_zone: start time of the zone\n",
    "for k in p:\n",
    "    tweet_list = p[k]['tweets']\n",
    "    news_time = p[k]['tweets'][0]['timestamp_ms']\n",
    "    for i in tweet_list:\n",
    "        time_diff = (i['timestamp_ms'] - news_time)/60/60/1000\n",
    "        i['time_diff'] = time_diff\n",
    "        i['time_zone'] = i['time_diff'] / INTERVAL // 1 * INTERVAL # according to interval"
   ]
  },
  {
   "cell_type": "code",
   "execution_count": 6,
   "metadata": {},
   "outputs": [],
   "source": [
    "def tweet_text(url, zone):\n",
    "    text_list = []\n",
    "    for i in p[url]['tweets']:\n",
    "        time_zone = i['time_zone']\n",
    "        if time_zone == zone:\n",
    "            text = i['text']\n",
    "            words = text.split(' ')\n",
    "            sent = ' '.join([j for j in words if '@' not in j and 'http' not in j])\n",
    "            text_list.append(sent)\n",
    "    return text_list"
   ]
  },
  {
   "cell_type": "code",
   "execution_count": 7,
   "metadata": {},
   "outputs": [
    {
     "name": "stderr",
     "output_type": "stream",
     "text": [
      "/Users/apple/anaconda3/lib/python3.6/site-packages/ipykernel_launcher.py:1: DeprecationWarning: object of type <class 'float'> cannot be safely interpreted as an integer.\n",
      "  \"\"\"Entry point for launching an IPython kernel.\n",
      "/Users/apple/anaconda3/lib/python3.6/site-packages/ipykernel_launcher.py:5: DeprecationWarning: object of type <class 'float'> cannot be safely interpreted as an integer.\n",
      "  \"\"\"\n"
     ]
    }
   ],
   "source": [
    "for i in np.linspace(0, MAX_SPAN, MAX_SPAN/INTERVAL+1):\n",
    "    df['tweet_text_'+str(i)+'h'] = df['url'].apply(lambda x: tweet_text(x, i))\n",
    "    \n",
    "df['tweet_amount_0.0h'] = 0\n",
    "for i in np.linspace(INTERVAL, MAX_SPAN, MAX_SPAN/INTERVAL):\n",
    "    df['tweet_amount_'+str(i)+'h'] = df.apply(lambda x: len(x['tweet_text_'+str(i-INTERVAL)+'h'])+x['tweet_amount_'+str(i-INTERVAL)+'h'], axis = 1)"
   ]
  },
  {
   "cell_type": "code",
   "execution_count": 8,
   "metadata": {},
   "outputs": [
    {
     "name": "stderr",
     "output_type": "stream",
     "text": [
      "/Users/apple/anaconda3/lib/python3.6/site-packages/ipykernel_launcher.py:2: DeprecationWarning: object of type <class 'float'> cannot be safely interpreted as an integer.\n",
      "  \n"
     ]
    }
   ],
   "source": [
    "df_ts = df.copy()\n",
    "for i in np.linspace(0, MAX_SPAN, MAX_SPAN/INTERVAL+1):\n",
    "    df_ts.drop(columns=['tweet_text_'+str(i)+'h'], inplace = True)"
   ]
  },
  {
   "cell_type": "code",
   "execution_count": null,
   "metadata": {},
   "outputs": [],
   "source": [
    "df_ts.to_pickle('./data/time_series.p')"
   ]
  },
  {
   "cell_type": "code",
   "execution_count": 9,
   "metadata": {},
   "outputs": [
    {
     "data": {
      "text/html": [
       "<div>\n",
       "<style scoped>\n",
       "    .dataframe tbody tr th:only-of-type {\n",
       "        vertical-align: middle;\n",
       "    }\n",
       "\n",
       "    .dataframe tbody tr th {\n",
       "        vertical-align: top;\n",
       "    }\n",
       "\n",
       "    .dataframe thead th {\n",
       "        text-align: right;\n",
       "    }\n",
       "</style>\n",
       "<table border=\"1\" class=\"dataframe\">\n",
       "  <thead>\n",
       "    <tr style=\"text-align: right;\">\n",
       "      <th></th>\n",
       "      <th>url</th>\n",
       "      <th>tweet_amount_0.0h</th>\n",
       "      <th>tweet_amount_0.25h</th>\n",
       "      <th>tweet_amount_0.5h</th>\n",
       "      <th>tweet_amount_0.75h</th>\n",
       "      <th>tweet_amount_1.0h</th>\n",
       "      <th>tweet_amount_1.25h</th>\n",
       "      <th>tweet_amount_1.5h</th>\n",
       "      <th>tweet_amount_1.75h</th>\n",
       "      <th>tweet_amount_2.0h</th>\n",
       "      <th>...</th>\n",
       "      <th>tweet_amount_8.0h</th>\n",
       "      <th>tweet_amount_8.25h</th>\n",
       "      <th>tweet_amount_8.5h</th>\n",
       "      <th>tweet_amount_8.75h</th>\n",
       "      <th>tweet_amount_9.0h</th>\n",
       "      <th>tweet_amount_9.25h</th>\n",
       "      <th>tweet_amount_9.5h</th>\n",
       "      <th>tweet_amount_9.75h</th>\n",
       "      <th>tweet_amount_10.0h</th>\n",
       "      <th>label</th>\n",
       "    </tr>\n",
       "  </thead>\n",
       "  <tbody>\n",
       "    <tr>\n",
       "      <th>0</th>\n",
       "      <td>https://cointelegraph.com/news/set-phasers-to-...</td>\n",
       "      <td>0</td>\n",
       "      <td>3</td>\n",
       "      <td>3</td>\n",
       "      <td>3</td>\n",
       "      <td>3</td>\n",
       "      <td>4</td>\n",
       "      <td>4</td>\n",
       "      <td>4</td>\n",
       "      <td>4</td>\n",
       "      <td>...</td>\n",
       "      <td>5</td>\n",
       "      <td>6</td>\n",
       "      <td>7</td>\n",
       "      <td>7</td>\n",
       "      <td>7</td>\n",
       "      <td>7</td>\n",
       "      <td>7</td>\n",
       "      <td>7</td>\n",
       "      <td>7</td>\n",
       "      <td>7</td>\n",
       "    </tr>\n",
       "    <tr>\n",
       "      <th>1</th>\n",
       "      <td>https://99bitcoins.com/bitcoin-news-summary-ju...</td>\n",
       "      <td>0</td>\n",
       "      <td>1</td>\n",
       "      <td>1</td>\n",
       "      <td>1</td>\n",
       "      <td>1</td>\n",
       "      <td>1</td>\n",
       "      <td>1</td>\n",
       "      <td>1</td>\n",
       "      <td>1</td>\n",
       "      <td>...</td>\n",
       "      <td>1</td>\n",
       "      <td>1</td>\n",
       "      <td>1</td>\n",
       "      <td>1</td>\n",
       "      <td>1</td>\n",
       "      <td>1</td>\n",
       "      <td>1</td>\n",
       "      <td>1</td>\n",
       "      <td>1</td>\n",
       "      <td>1</td>\n",
       "    </tr>\n",
       "  </tbody>\n",
       "</table>\n",
       "<p>2 rows × 43 columns</p>\n",
       "</div>"
      ],
      "text/plain": [
       "                                                 url  tweet_amount_0.0h  \\\n",
       "0  https://cointelegraph.com/news/set-phasers-to-...                  0   \n",
       "1  https://99bitcoins.com/bitcoin-news-summary-ju...                  0   \n",
       "\n",
       "   tweet_amount_0.25h  tweet_amount_0.5h  tweet_amount_0.75h  \\\n",
       "0                   3                  3                   3   \n",
       "1                   1                  1                   1   \n",
       "\n",
       "   tweet_amount_1.0h  tweet_amount_1.25h  tweet_amount_1.5h  \\\n",
       "0                  3                   4                  4   \n",
       "1                  1                   1                  1   \n",
       "\n",
       "   tweet_amount_1.75h  tweet_amount_2.0h  ...  tweet_amount_8.0h  \\\n",
       "0                   4                  4  ...                  5   \n",
       "1                   1                  1  ...                  1   \n",
       "\n",
       "   tweet_amount_8.25h  tweet_amount_8.5h  tweet_amount_8.75h  \\\n",
       "0                   6                  7                   7   \n",
       "1                   1                  1                   1   \n",
       "\n",
       "   tweet_amount_9.0h  tweet_amount_9.25h  tweet_amount_9.5h  \\\n",
       "0                  7                   7                  7   \n",
       "1                  1                   1                  1   \n",
       "\n",
       "   tweet_amount_9.75h  tweet_amount_10.0h  label  \n",
       "0                   7                   7      7  \n",
       "1                   1                   1      1  \n",
       "\n",
       "[2 rows x 43 columns]"
      ]
     },
     "execution_count": 9,
     "metadata": {},
     "output_type": "execute_result"
    }
   ],
   "source": [
    "# gather certain length of data\n",
    "column_index = list(range(0, int(GATHER_POINT / INTERVAL)+2))\n",
    "column_index.append(df_ts.shape[1]-1)\n",
    "data_ts = df_ts.iloc[:, column_index]\n",
    "data_ts = data_ts.rename(columns={'tweet_amount_24.0h': 'label'})\n",
    "data_ts.head(2)"
   ]
  },
  {
   "cell_type": "markdown",
   "metadata": {},
   "source": [
    "# 2. prepare event_series(text) data"
   ]
  },
  {
   "cell_type": "code",
   "execution_count": null,
   "metadata": {},
   "outputs": [],
   "source": [
    "df_es = df_cleaned[['url','sentences','news_title']]"
   ]
  },
  {
   "cell_type": "code",
   "execution_count": null,
   "metadata": {},
   "outputs": [],
   "source": [
    "import string\n",
    "punctuation = set(string.punctuation)\n",
    "from string import ascii_letters, digits\n",
    "\n",
    "def ExtractAlphanumeric(InputString):\n",
    "    return \"\".join([ch for ch in InputString if ch in (ascii_letters + digits+''.join(punctuation)+' '+'\\n')])\n",
    "\n",
    "def extract_twtext(url):\n",
    "    tw_text = []\n",
    "    tw_text = [i['text'] for i in p[url]['tweets'] if i['time_diff'] < MAX_SPAN]\n",
    "    tw_clean = [' '.join([j for j in ExtractAlphanumeric(text).split(' ') if '@' not in j and 'http' not in j]) for text in tw_text]\n",
    "    return tw_clean\n",
    "\n",
    "def extract_twtime(url):\n",
    "    tw_time = []\n",
    "    tw_time = [round(i['time_diff'],2) for i in p[url]['tweets'] if i['time_diff'] < MAX_SPAN]\n",
    "    return tw_time"
   ]
  },
  {
   "cell_type": "code",
   "execution_count": null,
   "metadata": {
    "scrolled": true
   },
   "outputs": [],
   "source": [
    "df_es['tw_text'] = df_es['url'].apply(lambda x: extract_twtext(x))\n",
    "df_es['tw_len'] = df_es['tw_text'].apply(lambda x: len(x))\n",
    "df_es['tw_time'] = df_es['url'].apply(lambda x: extract_twtime(x))"
   ]
  },
  {
   "cell_type": "code",
   "execution_count": null,
   "metadata": {},
   "outputs": [],
   "source": [
    "df_es.to_pickle('./data/event_series.p')"
   ]
  },
  {
   "cell_type": "code",
   "execution_count": null,
   "metadata": {},
   "outputs": [],
   "source": [
    "df_es.head(2)"
   ]
  },
  {
   "cell_type": "code",
   "execution_count": null,
   "metadata": {},
   "outputs": [],
   "source": [
    "# gather certain length of data\n",
    "df_es['time_list'] = df_es['tw_time'].apply(lambda x: [i for i in x if i < GATHER_POINT])\n",
    "df_es['tw_list'] = df_es.apply(lambda x: x['tw_text'][:len(x['time_list'])], axis = 1)\n",
    "df_es['num_tw'] = df_es['tw_list'].apply(lambda x: len(x))"
   ]
  },
  {
   "cell_type": "markdown",
   "metadata": {},
   "source": [
    "# 3. merge and filter"
   ]
  },
  {
   "cell_type": "code",
   "execution_count": null,
   "metadata": {},
   "outputs": [],
   "source": [
    "df_all = pd.merge(data_ts,df_es,on='url')\n",
    "print('length of time series data: ', len(data_ts))\n",
    "print('length of event series data: ', len(df_es))\n",
    "print('length of merged data: ', len(df_all))"
   ]
  },
  {
   "cell_type": "code",
   "execution_count": null,
   "metadata": {},
   "outputs": [],
   "source": [
    "df_all = df_all[df_all['num_tw']>1]\n",
    "df_all = df_all.reset_index(drop=True)\n",
    "df_all.drop(columns=['tw_text','tw_len','tw_time'], inplace = True)\n",
    "len(df_all)"
   ]
  },
  {
   "cell_type": "code",
   "execution_count": null,
   "metadata": {},
   "outputs": [],
   "source": [
    "df_all.head(2)"
   ]
  },
  {
   "cell_type": "markdown",
   "metadata": {},
   "source": [
    "# 4. check bad points, save dataframe"
   ]
  },
  {
   "cell_type": "code",
   "execution_count": null,
   "metadata": {},
   "outputs": [],
   "source": [
    "for i in list(df_all['time_list']):\n",
    "    for j in i:\n",
    "        if j > 24 or j < 0:\n",
    "            print('!')"
   ]
  },
  {
   "cell_type": "code",
   "execution_count": null,
   "metadata": {},
   "outputs": [],
   "source": [
    "df_all.to_pickle('./data/5h_basic.p')"
   ]
  },
  {
   "cell_type": "markdown",
   "metadata": {},
   "source": [
    "# 5. prepare data for point processing"
   ]
  },
  {
   "cell_type": "code",
   "execution_count": 7,
   "metadata": {},
   "outputs": [],
   "source": [
    "df_all = pd.read_pickle('./data/5h_basic.p')"
   ]
  },
  {
   "cell_type": "code",
   "execution_count": 8,
   "metadata": {},
   "outputs": [
    {
     "data": {
      "text/plain": [
       "18910"
      ]
     },
     "execution_count": 8,
     "metadata": {},
     "output_type": "execute_result"
    }
   ],
   "source": [
    "len(df_all)"
   ]
  },
  {
   "cell_type": "code",
   "execution_count": 9,
   "metadata": {},
   "outputs": [
    {
     "data": {
      "text/html": [
       "<div>\n",
       "<style scoped>\n",
       "    .dataframe tbody tr th:only-of-type {\n",
       "        vertical-align: middle;\n",
       "    }\n",
       "\n",
       "    .dataframe tbody tr th {\n",
       "        vertical-align: top;\n",
       "    }\n",
       "\n",
       "    .dataframe thead th {\n",
       "        text-align: right;\n",
       "    }\n",
       "</style>\n",
       "<table border=\"1\" class=\"dataframe\">\n",
       "  <thead>\n",
       "    <tr style=\"text-align: right;\">\n",
       "      <th></th>\n",
       "      <th>url</th>\n",
       "      <th>tweet_amount_0.0h</th>\n",
       "      <th>tweet_amount_0.25h</th>\n",
       "      <th>tweet_amount_0.5h</th>\n",
       "      <th>tweet_amount_0.75h</th>\n",
       "      <th>tweet_amount_1.0h</th>\n",
       "      <th>tweet_amount_1.25h</th>\n",
       "      <th>tweet_amount_1.5h</th>\n",
       "      <th>tweet_amount_1.75h</th>\n",
       "      <th>tweet_amount_2.0h</th>\n",
       "      <th>...</th>\n",
       "      <th>tweet_amount_4.0h</th>\n",
       "      <th>tweet_amount_4.25h</th>\n",
       "      <th>tweet_amount_4.5h</th>\n",
       "      <th>tweet_amount_4.75h</th>\n",
       "      <th>tweet_amount_5.0h</th>\n",
       "      <th>label</th>\n",
       "      <th>sentences</th>\n",
       "      <th>news_title</th>\n",
       "      <th>time_list</th>\n",
       "      <th>tw_list</th>\n",
       "    </tr>\n",
       "  </thead>\n",
       "  <tbody>\n",
       "    <tr>\n",
       "      <th>0</th>\n",
       "      <td>https://cointelegraph.com/news/set-phasers-to-...</td>\n",
       "      <td>0</td>\n",
       "      <td>3</td>\n",
       "      <td>3</td>\n",
       "      <td>3</td>\n",
       "      <td>3</td>\n",
       "      <td>4</td>\n",
       "      <td>4</td>\n",
       "      <td>4</td>\n",
       "      <td>4</td>\n",
       "      <td>...</td>\n",
       "      <td>4</td>\n",
       "      <td>4</td>\n",
       "      <td>5</td>\n",
       "      <td>5</td>\n",
       "      <td>5</td>\n",
       "      <td>7</td>\n",
       "      <td>[William Shatners positive Tweet posted yester...</td>\n",
       "      <td>Set Phasers to HODL: Star Trek's William Shatn...</td>\n",
       "      <td>[0.0, 0.04, 0.05, 1.09, 4.36]</td>\n",
       "      <td>[Set Phasers to HODL: Star Trek's William Shat...</td>\n",
       "    </tr>\n",
       "    <tr>\n",
       "      <th>1</th>\n",
       "      <td>https://ohiobitcoin.com/malicious-cryptocurren...</td>\n",
       "      <td>0</td>\n",
       "      <td>2</td>\n",
       "      <td>2</td>\n",
       "      <td>2</td>\n",
       "      <td>2</td>\n",
       "      <td>2</td>\n",
       "      <td>2</td>\n",
       "      <td>2</td>\n",
       "      <td>2</td>\n",
       "      <td>...</td>\n",
       "      <td>2</td>\n",
       "      <td>2</td>\n",
       "      <td>2</td>\n",
       "      <td>2</td>\n",
       "      <td>2</td>\n",
       "      <td>2</td>\n",
       "      <td>[Malicious Cryptocurrency Mining Malware Masks...</td>\n",
       "      <td>Malicious Cryptocurrency Mining Malware Masks ...</td>\n",
       "      <td>[0.0, 0.03]</td>\n",
       "      <td>[Malicious Cryptocurrency Mining Malware Masks...</td>\n",
       "    </tr>\n",
       "    <tr>\n",
       "      <th>2</th>\n",
       "      <td>https://cryptodaily.co.uk/2018/11/bitcoin-is-m...</td>\n",
       "      <td>0</td>\n",
       "      <td>1</td>\n",
       "      <td>1</td>\n",
       "      <td>4</td>\n",
       "      <td>4</td>\n",
       "      <td>4</td>\n",
       "      <td>4</td>\n",
       "      <td>4</td>\n",
       "      <td>4</td>\n",
       "      <td>...</td>\n",
       "      <td>6</td>\n",
       "      <td>6</td>\n",
       "      <td>6</td>\n",
       "      <td>6</td>\n",
       "      <td>6</td>\n",
       "      <td>7</td>\n",
       "      <td>[The office for the Manhattan District Attorne...</td>\n",
       "      <td>Bitcoin Is Making People Crazy</td>\n",
       "      <td>[0.0, 0.57, 0.66, 0.71, 3.27, 3.28]</td>\n",
       "      <td>[Bitcoin Is Making People Crazy, #Bitcoin Is M...</td>\n",
       "    </tr>\n",
       "    <tr>\n",
       "      <th>3</th>\n",
       "      <td>https://bitcoinnews.com/asia-and-australia-cry...</td>\n",
       "      <td>0</td>\n",
       "      <td>4</td>\n",
       "      <td>4</td>\n",
       "      <td>4</td>\n",
       "      <td>4</td>\n",
       "      <td>4</td>\n",
       "      <td>4</td>\n",
       "      <td>4</td>\n",
       "      <td>4</td>\n",
       "      <td>...</td>\n",
       "      <td>4</td>\n",
       "      <td>4</td>\n",
       "      <td>4</td>\n",
       "      <td>4</td>\n",
       "      <td>4</td>\n",
       "      <td>6</td>\n",
       "      <td>[Welcome to another weekly blockchain news rou...</td>\n",
       "      <td>Asia and Australia: Crypto and Blockchain News...</td>\n",
       "      <td>[0.0, 0.0, 0.01, 0.14]</td>\n",
       "      <td>[Asia and Australia: Crypto and Blockchain New...</td>\n",
       "    </tr>\n",
       "    <tr>\n",
       "      <th>4</th>\n",
       "      <td>https://www.coindesk.com/waves-crypto-exchange...</td>\n",
       "      <td>0</td>\n",
       "      <td>2</td>\n",
       "      <td>2</td>\n",
       "      <td>2</td>\n",
       "      <td>2</td>\n",
       "      <td>3</td>\n",
       "      <td>3</td>\n",
       "      <td>3</td>\n",
       "      <td>3</td>\n",
       "      <td>...</td>\n",
       "      <td>3</td>\n",
       "      <td>3</td>\n",
       "      <td>3</td>\n",
       "      <td>3</td>\n",
       "      <td>3</td>\n",
       "      <td>3</td>\n",
       "      <td>[When a decentralized cryptocurrency exchange ...</td>\n",
       "      <td>Waves' Decentralized Exchange Had a $6 Million...</td>\n",
       "      <td>[0.0, 0.06, 1.11]</td>\n",
       "      <td>[ \\nDecentralized exchanges might still be a f...</td>\n",
       "    </tr>\n",
       "  </tbody>\n",
       "</table>\n",
       "<p>5 rows × 27 columns</p>\n",
       "</div>"
      ],
      "text/plain": [
       "                                                 url  tweet_amount_0.0h  \\\n",
       "0  https://cointelegraph.com/news/set-phasers-to-...                  0   \n",
       "1  https://ohiobitcoin.com/malicious-cryptocurren...                  0   \n",
       "2  https://cryptodaily.co.uk/2018/11/bitcoin-is-m...                  0   \n",
       "3  https://bitcoinnews.com/asia-and-australia-cry...                  0   \n",
       "4  https://www.coindesk.com/waves-crypto-exchange...                  0   \n",
       "\n",
       "   tweet_amount_0.25h  tweet_amount_0.5h  tweet_amount_0.75h  \\\n",
       "0                   3                  3                   3   \n",
       "1                   2                  2                   2   \n",
       "2                   1                  1                   4   \n",
       "3                   4                  4                   4   \n",
       "4                   2                  2                   2   \n",
       "\n",
       "   tweet_amount_1.0h  tweet_amount_1.25h  tweet_amount_1.5h  \\\n",
       "0                  3                   4                  4   \n",
       "1                  2                   2                  2   \n",
       "2                  4                   4                  4   \n",
       "3                  4                   4                  4   \n",
       "4                  2                   3                  3   \n",
       "\n",
       "   tweet_amount_1.75h  tweet_amount_2.0h  ...  tweet_amount_4.0h  \\\n",
       "0                   4                  4  ...                  4   \n",
       "1                   2                  2  ...                  2   \n",
       "2                   4                  4  ...                  6   \n",
       "3                   4                  4  ...                  4   \n",
       "4                   3                  3  ...                  3   \n",
       "\n",
       "   tweet_amount_4.25h  tweet_amount_4.5h  tweet_amount_4.75h  \\\n",
       "0                   4                  5                   5   \n",
       "1                   2                  2                   2   \n",
       "2                   6                  6                   6   \n",
       "3                   4                  4                   4   \n",
       "4                   3                  3                   3   \n",
       "\n",
       "   tweet_amount_5.0h  label  \\\n",
       "0                  5      7   \n",
       "1                  2      2   \n",
       "2                  6      7   \n",
       "3                  4      6   \n",
       "4                  3      3   \n",
       "\n",
       "                                           sentences  \\\n",
       "0  [William Shatners positive Tweet posted yester...   \n",
       "1  [Malicious Cryptocurrency Mining Malware Masks...   \n",
       "2  [The office for the Manhattan District Attorne...   \n",
       "3  [Welcome to another weekly blockchain news rou...   \n",
       "4  [When a decentralized cryptocurrency exchange ...   \n",
       "\n",
       "                                          news_title  \\\n",
       "0  Set Phasers to HODL: Star Trek's William Shatn...   \n",
       "1  Malicious Cryptocurrency Mining Malware Masks ...   \n",
       "2                     Bitcoin Is Making People Crazy   \n",
       "3  Asia and Australia: Crypto and Blockchain News...   \n",
       "4  Waves' Decentralized Exchange Had a $6 Million...   \n",
       "\n",
       "                             time_list  \\\n",
       "0        [0.0, 0.04, 0.05, 1.09, 4.36]   \n",
       "1                          [0.0, 0.03]   \n",
       "2  [0.0, 0.57, 0.66, 0.71, 3.27, 3.28]   \n",
       "3               [0.0, 0.0, 0.01, 0.14]   \n",
       "4                    [0.0, 0.06, 1.11]   \n",
       "\n",
       "                                             tw_list  \n",
       "0  [Set Phasers to HODL: Star Trek's William Shat...  \n",
       "1  [Malicious Cryptocurrency Mining Malware Masks...  \n",
       "2  [Bitcoin Is Making People Crazy, #Bitcoin Is M...  \n",
       "3  [Asia and Australia: Crypto and Blockchain New...  \n",
       "4  [ \\nDecentralized exchanges might still be a f...  \n",
       "\n",
       "[5 rows x 27 columns]"
      ]
     },
     "execution_count": 9,
     "metadata": {},
     "output_type": "execute_result"
    }
   ],
   "source": [
    "df_all.head()"
   ]
  },
  {
   "cell_type": "code",
   "execution_count": null,
   "metadata": {},
   "outputs": [],
   "source": [
    "sent = list(df_all['sentences'])\n",
    "output = open('./data/news_text.pkl', 'wb')\n",
    "pickle.dump(sent, output)\n",
    "output.close()"
   ]
  },
  {
   "cell_type": "code",
   "execution_count": null,
   "metadata": {},
   "outputs": [],
   "source": [
    "tweet = list(df_all['tw_list'])\n",
    "output = open('./data/tw_text.pkl', 'wb')\n",
    "pickle.dump(tweet, output)\n",
    "output.close()"
   ]
  },
  {
   "cell_type": "code",
   "execution_count": null,
   "metadata": {},
   "outputs": [],
   "source": [
    "with open('./data/tw_vector.pkl','rb') as f:\n",
    "    tw_vector = pickle.load(f)"
   ]
  },
  {
   "cell_type": "code",
   "execution_count": null,
   "metadata": {},
   "outputs": [],
   "source": [
    "df_all.drop(columns=['sentences','news_title','tw_list'], inplace = True)\n",
    "df_all = df_all.reset_index(drop=True)"
   ]
  },
  {
   "cell_type": "code",
   "execution_count": null,
   "metadata": {},
   "outputs": [],
   "source": [
    "df_all['tw_vector'] = pd.Series(tw_vector)"
   ]
  },
  {
   "cell_type": "code",
   "execution_count": null,
   "metadata": {},
   "outputs": [],
   "source": [
    "df_all.head(2)"
   ]
  },
  {
   "cell_type": "code",
   "execution_count": null,
   "metadata": {},
   "outputs": [],
   "source": [
    "def split_data(dataframe,train_p,valid_p,test_p):\n",
    "    assert train_p + valid_p + test_p == 1\n",
    "    l = [i for i in range(len(dataframe))]\n",
    "    random.shuffle(l)\n",
    "    train_index = l[:int(train_p*len(dataframe))]\n",
    "    valid_index = l[int(train_p*len(dataframe)):int((train_p+valid_p)*len(dataframe))]\n",
    "    test_index = l[int((train_p+valid_p)*len(dataframe)):]\n",
    "    train_df = dataframe.iloc[train_index,:].reset_index(drop=True)\n",
    "    valid_df = dataframe.iloc[valid_index,:].reset_index(drop=True)\n",
    "    test_df = dataframe.iloc[test_index,:].reset_index(drop=True)\n",
    "    return train_df, valid_df, test_df\n",
    "\n",
    "train_df, valid_df, test_df = split_data(df_all, 0.9, 0, 0.1)"
   ]
  },
  {
   "cell_type": "code",
   "execution_count": null,
   "metadata": {},
   "outputs": [],
   "source": [
    "train_df.to_pickle('./data/train.p')\n",
    "test_df.to_pickle('./data/test.p')"
   ]
  },
  {
   "cell_type": "code",
   "execution_count": 11,
   "metadata": {},
   "outputs": [],
   "source": [
    "train_df = pd.read_pickle('./data/train.p')\n",
    "test_df = pd.read_pickle('./data/test.p')"
   ]
  },
  {
   "cell_type": "markdown",
   "metadata": {},
   "source": [
    "# split test set"
   ]
  },
  {
   "cell_type": "code",
   "execution_count": null,
   "metadata": {},
   "outputs": [],
   "source": [
    "test_df = pd.read_pickle('./data/test.p')"
   ]
  },
  {
   "cell_type": "code",
   "execution_count": null,
   "metadata": {},
   "outputs": [],
   "source": [
    "test_h = test_df[test_df['label']>=7]\n",
    "test_m = test_df[test_df['label']>=3]\n",
    "test_m = test_m[test_m['label']<7]\n",
    "test_l = test_df[test_df['label']<3]"
   ]
  },
  {
   "cell_type": "code",
   "execution_count": null,
   "metadata": {},
   "outputs": [],
   "source": [
    "test_h.to_pickle('./data/test_h.p')\n",
    "test_m.to_pickle('./data/test_m.p')\n",
    "test_l.to_pickle('./data/test_l.p')"
   ]
  },
  {
   "cell_type": "code",
   "execution_count": null,
   "metadata": {},
   "outputs": [],
   "source": [
    "len(test_l)"
   ]
  },
  {
   "cell_type": "code",
   "execution_count": null,
   "metadata": {},
   "outputs": [],
   "source": []
  },
  {
   "cell_type": "markdown",
   "metadata": {},
   "source": [
    "# Attach news data"
   ]
  },
  {
   "cell_type": "code",
   "execution_count": 66,
   "metadata": {},
   "outputs": [],
   "source": [
    "with open('./data/news_vector.pkl','rb') as f:\n",
    "    news_vector = pickle.load(f)"
   ]
  },
  {
   "cell_type": "code",
   "execution_count": 47,
   "metadata": {},
   "outputs": [],
   "source": [
    "# active and popular publishers\n",
    "publisher = []\n",
    "with open('./util/active_websites.txt') as f:\n",
    "    for i in f:\n",
    "        if len(i)>2:\n",
    "            publisher.append(i.strip())\n",
    "            \n",
    "insti_expert = []\n",
    "with open('./util/top_institutions.txt') as f:\n",
    "    for i in f:\n",
    "        if len(i)>2:\n",
    "            insti_expert.append(i.strip())\n",
    "            \n",
    "with open('./util/top_experts.txt') as f:\n",
    "    for i in f:\n",
    "        if len(i)>2:\n",
    "            insti_expert.append(i.strip())"
   ]
  },
  {
   "cell_type": "code",
   "execution_count": 67,
   "metadata": {},
   "outputs": [],
   "source": [
    "df_all['news_vector'] = news_vector\n",
    "train_news = train_df[['url','label']].merge(df_all[['url','news_vector']], on='url', how='left')\n",
    "train_news = train_news.merge(df_cleaned[['url','publisher','sentences']], on='url', how='left')\n",
    "\n",
    "test_news = test_df[['url','label']].merge(df_all[['url','news_vector']], on='url', how='left')\n",
    "test_news = test_news.merge(df_cleaned[['url','publisher','sentences']], on='url', how='left')"
   ]
  },
  {
   "cell_type": "code",
   "execution_count": 68,
   "metadata": {},
   "outputs": [],
   "source": [
    "train_news['publisher'] = train_news['publisher'].apply(lambda x: x if x in publisher else 'other')\n",
    "train_news = pd.get_dummies(train_news, columns=['publisher'])\n",
    "train_news.drop(columns=['publisher_other'], inplace=True)\n",
    "\n",
    "test_news['publisher'] = test_news['publisher'].apply(lambda x: x if x in publisher else 'other')\n",
    "test_news = pd.get_dummies(test_news, columns=['publisher'])\n",
    "test_news.drop(columns=['publisher_other'], inplace=True)"
   ]
  },
  {
   "cell_type": "code",
   "execution_count": 69,
   "metadata": {},
   "outputs": [],
   "source": [
    "for word in insti_expert:\n",
    "    train_news[word] = train_news['sentences'].apply(lambda x: ' '.join(x).count(word))\n",
    "    test_news[word] = test_news['sentences'].apply(lambda x: ' '.join(x).count(word))"
   ]
  },
  {
   "cell_type": "code",
   "execution_count": 70,
   "metadata": {},
   "outputs": [],
   "source": [
    "train_news['news_vector'] = train_news['news_vector'].map(sum)\n",
    "train_news['vector'] = list(np.concatenate((np.array(list(train_news['news_vector'])), train_news.iloc[:,4:].values), axis=1))\n",
    "\n",
    "test_news['news_vector'] = test_news['news_vector'].map(sum)\n",
    "test_news['vector'] = list(np.concatenate((np.array(list(test_news['news_vector'])), test_news.iloc[:,4:].values), axis=1))"
   ]
  },
  {
   "cell_type": "code",
   "execution_count": 74,
   "metadata": {},
   "outputs": [],
   "source": [
    "train_news = train_news[['url', 'vector', 'label']]\n",
    "test_news = test_news[['url', 'vector', 'label']]"
   ]
  },
  {
   "cell_type": "code",
   "execution_count": 76,
   "metadata": {},
   "outputs": [],
   "source": [
    "train_news.to_pickle('./data/train_news.p')\n",
    "test_news.to_pickle('./data/test_news.p')"
   ]
  },
  {
   "cell_type": "markdown",
   "metadata": {},
   "source": [
    "# Attach tweet meta-data"
   ]
  },
  {
   "cell_type": "code",
   "execution_count": null,
   "metadata": {},
   "outputs": [],
   "source": [
    "def tw_meta(url, num_tw, list_vec):\n",
    "    friends =  np.array([tw['user']['friends_count']/1e5 for tw in p[url]['tweets'][:num_tw]]).reshape(-1,1)\n",
    "    followers = np.array([tw['user']['followers_count']/1e6 for tw in p[url]['tweets'][:num_tw]]).reshape(-1,1)\n",
    "    retweet = np.array([1 if tw['is_retweet'] else 0 for tw in p[url]['tweets'][:num_tw]]).reshape(-1,1)\n",
    "    return list(np.concatenate((np.array(list_vec), friends,followers,retweet),axis=1))\n",
    "\n",
    "# def favor(url, num_tw):\n",
    "#     return [tw['user']['favourites_count'] for tw in p[url]['tweets'][:num_tw]]"
   ]
  },
  {
   "cell_type": "code",
   "execution_count": null,
   "metadata": {},
   "outputs": [],
   "source": [
    "train_df['tw_vector'] = train_df.apply(lambda x: tw_meta(x['url'], x['num_tw'], x['tw_vector']), axis=1)\n",
    "test_df['tw_vector'] = test_df.apply(lambda x: tw_meta(x['url'], x['num_tw'], x['tw_vector']), axis=1)"
   ]
  },
  {
   "cell_type": "code",
   "execution_count": null,
   "metadata": {},
   "outputs": [],
   "source": [
    "# check dimension\n",
    "a = sum([1 for x in list(train_df['tw_vector']) for y in x if y.shape[0] != 771])\n",
    "assert a == 0"
   ]
  },
  {
   "cell_type": "code",
   "execution_count": null,
   "metadata": {},
   "outputs": [],
   "source": [
    "train_df.to_pickle('./data/train_meta.p')\n",
    "test_df.to_pickle('./data/test_meta.p')"
   ]
  },
  {
   "cell_type": "markdown",
   "metadata": {},
   "source": [
    "# Data for bert fine-tuning"
   ]
  },
  {
   "cell_type": "code",
   "execution_count": null,
   "metadata": {},
   "outputs": [],
   "source": [
    "train_text = train_df.merge(df_all[['url','sentences']], on='url', how='left')\n",
    "train_text = train_text[['label', 'sentences']]\n",
    "\n",
    "test_text = test_df.merge(df_all[['url','sentences']], on='url', how='left')\n",
    "test_text = test_text[['label', 'sentences']]"
   ]
  },
  {
   "cell_type": "code",
   "execution_count": null,
   "metadata": {},
   "outputs": [],
   "source": [
    "train_te.to_pickle('./data/train_meta.p')\n",
    "test_df.to_pickle('./data/test_meta.p')"
   ]
  },
  {
   "cell_type": "code",
   "execution_count": null,
   "metadata": {},
   "outputs": [],
   "source": []
  },
  {
   "cell_type": "code",
   "execution_count": null,
   "metadata": {},
   "outputs": [],
   "source": []
  },
  {
   "cell_type": "markdown",
   "metadata": {},
   "source": [
    "# hot-cold news"
   ]
  },
  {
   "cell_type": "code",
   "execution_count": 14,
   "metadata": {},
   "outputs": [
    {
     "data": {
      "image/png": "[encoded data removed]",
      "text/plain": [
       "<Figure size 576x360 with 1 Axes>"
      ]
     },
     "metadata": {},
     "output_type": "display_data"
    }
   ],
   "source": [
    "# df_all = pd.read_pickle('./data/5h_basic.p')\n",
    "news_comments = list(train_df['num_tw'])\n",
    "\n",
    "t = np.linspace(0, 30, 31)\n",
    "d = []\n",
    "for i in t:\n",
    "    d.append(sum([1 for num in news_comments if num < i])/len(news_comments))\n",
    "\n",
    "plt.figure(figsize = (8,5))\n",
    "# plt.subplot(121)\n",
    "plt.plot(t,d)\n",
    "plt.xlabel('number of comments')\n",
    "plt.ylabel('percentage of news')\n",
    "plt.title('Accumulated distribution of news comments')\n",
    "plt.grid()\n",
    "\n",
    "foo = plt.gcf()\n",
    "plt.savefig('distribution.pdf', format='pdf', dpi=1000)\n",
    "\n",
    "# plt.subplot(122)\n",
    "# plt.hist([i for i in news_comments if i<20])\n",
    "# plt.xlabel('number of comments')\n",
    "# plt.ylabel('number of news')\n",
    "# plt.title('Distribution of number of comments')\n",
    "# plt.show()"
   ]
  },
  {
   "cell_type": "code",
   "execution_count": null,
   "metadata": {},
   "outputs": [],
   "source": []
  },
  {
   "cell_type": "code",
   "execution_count": null,
   "metadata": {},
   "outputs": [],
   "source": [
    "df.drop(index=[0, 1])\n",
    "'https://bitcoinexchangeguide.com/dubais-palmex-exchange-granted-regulatory-sandbox-license-by-bahrain/'"
   ]
  },
  {
   "cell_type": "code",
   "execution_count": 79,
   "metadata": {},
   "outputs": [],
   "source": [
    "l = p['https://bitcoinexchangeguide.com/dubais-palmex-exchange-granted-regulatory-sandbox-license-by-bahrain/']['tweets']"
   ]
  },
  {
   "cell_type": "code",
   "execution_count": 93,
   "metadata": {},
   "outputs": [
    {
     "name": "stdout",
     "output_type": "stream",
     "text": [
      "0.0\n",
      "0.11202972222222224\n",
      "0.12988555555555556\n",
      "0.1356747222222222\n",
      "0.39382249999999996\n",
      "0.8428491666666666\n",
      "1.102891388888889\n",
      "1.2166683333333335\n",
      "1.316885277777778\n",
      "1.4381933333333334\n",
      "5.061959166666666\n",
      "5.076335\n",
      "5.076647777777778\n",
      "5.12862111111111\n",
      "5.130666111111112\n",
      "5.197448888888889\n",
      "5.214272222222222\n",
      "5.229321111111111\n",
      "5.258962222222222\n",
      "5.266746944444444\n",
      "5.342744166666668\n",
      "6.283533333333334\n",
      "6.381194722222222\n",
      "8.15395\n",
      "12.326913333333334\n",
      "12.390783333333333\n",
      "12.435591388888888\n",
      "12.437639722222222\n",
      "12.438308055555556\n",
      "12.439046111111113\n",
      "12.439605000000002\n",
      "12.44016361111111\n",
      "12.596705833333333\n",
      "12.762293333333334\n",
      "12.969072222222223\n",
      "14.17561277777778\n",
      "14.243775\n",
      "14.550345277777778\n",
      "14.726890555555556\n",
      "14.805215\n",
      "14.884245555555555\n",
      "14.939922777777777\n",
      "14.958073333333333\n",
      "15.038810833333333\n",
      "15.144365555555556\n",
      "15.166865555555557\n",
      "15.211301944444445\n",
      "15.475104166666666\n",
      "15.595737777777778\n",
      "15.841772777777779\n",
      "15.88009361111111\n",
      "15.94732138888889\n",
      "16.05074388888889\n",
      "16.39554833333333\n",
      "16.554369166666667\n",
      "16.583939722222222\n",
      "16.72595611111111\n",
      "16.814033611111114\n",
      "17.152304444444447\n",
      "17.17593638888889\n",
      "17.180003333333335\n",
      "17.190260277777778\n",
      "17.468589722222223\n",
      "17.7707575\n",
      "17.81980527777778\n",
      "17.844778055555555\n",
      "17.858448888888887\n",
      "17.881338055555556\n",
      "18.622910277777777\n",
      "18.683641111111108\n",
      "18.686381944444445\n",
      "18.688858055555556\n",
      "18.68904388888889\n",
      "18.697070277777776\n",
      "18.759056666666662\n",
      "18.825880555555557\n",
      "18.833091666666668\n",
      "19.009941666666666\n",
      "19.159282499999996\n",
      "19.5323725\n",
      "19.631499722222223\n",
      "19.65046361111111\n",
      "19.678021944444446\n",
      "19.77023916666667\n",
      "19.909806111111113\n",
      "20.00557333333333\n",
      "20.0303125\n",
      "20.04479388888889\n",
      "20.045014722222223\n",
      "20.05428972222222\n",
      "20.055431666666664\n",
      "20.059530833333334\n",
      "20.0687775\n",
      "20.104233055555557\n",
      "20.13067777777778\n",
      "20.131186111111113\n",
      "20.33346583333333\n",
      "20.335473055555553\n",
      "20.38259611111111\n",
      "20.443571944444443\n",
      "20.520721944444446\n",
      "20.586274166666666\n",
      "20.658838333333332\n",
      "20.972779722222224\n",
      "20.97955111111111\n",
      "21.01507666666667\n",
      "21.312313888888887\n",
      "21.402840277777777\n",
      "21.791894444444445\n",
      "21.814937222222223\n",
      "21.854015\n",
      "21.85992\n",
      "21.932384166666665\n",
      "21.996349444444444\n",
      "22.024524722222225\n",
      "22.085943888888888\n",
      "22.204959444444444\n",
      "22.396726388888887\n",
      "22.468504166666666\n",
      "22.64934666666667\n",
      "22.683064166666668\n",
      "22.777691666666666\n",
      "22.936914999999996\n",
      "22.967481944444447\n",
      "23.096104166666667\n",
      "23.45720861111111\n",
      "23.464266944444443\n",
      "23.652512222222224\n",
      "23.701656666666665\n",
      "23.800838333333335\n",
      "23.8921375\n",
      "24.09081972222222\n",
      "24.140990833333333\n",
      "24.46179777777778\n",
      "24.505456666666664\n",
      "24.510648888888888\n",
      "24.558265555555558\n",
      "24.598572500000003\n",
      "24.778929166666664\n",
      "25.552350277777776\n",
      "25.63322777777778\n",
      "25.68213611111111\n",
      "25.926717500000002\n",
      "25.941474166666666\n",
      "25.994063333333337\n",
      "26.002129444444442\n",
      "26.402412499999997\n",
      "26.560959166666667\n",
      "26.74642166666667\n",
      "26.77773361111111\n",
      "27.19332277777778\n",
      "27.27057138888889\n",
      "27.369625833333334\n",
      "27.45036138888889\n",
      "27.80609833333333\n",
      "28.013554166666665\n",
      "28.791558333333334\n",
      "28.885278333333332\n",
      "28.945295555555557\n",
      "28.974604444444445\n",
      "29.380480833333333\n",
      "29.489032777777776\n",
      "29.6387125\n",
      "29.85805861111111\n",
      "29.903336111111113\n",
      "29.981794999999998\n",
      "31.30469527777778\n",
      "33.88109527777778\n",
      "34.29191027777778\n",
      "34.34113833333333\n",
      "34.35301583333333\n",
      "34.551654722222224\n",
      "37.13516027777778\n",
      "37.87750833333333\n",
      "38.264497500000004\n",
      "38.981680277777784\n",
      "39.18100833333333\n",
      "39.25177083333334\n",
      "40.24634416666666\n",
      "40.26063444444445\n",
      "41.05560499999999\n",
      "41.11335583333334\n",
      "43.138870555555556\n",
      "43.169760833333335\n",
      "43.57112444444444\n",
      "43.65817888888889\n",
      "44.830074999999994\n",
      "44.840545277777785\n",
      "45.992807500000005\n",
      "46.15800166666667\n",
      "47.00621166666667\n",
      "48.651941388888886\n",
      "50.087426944444445\n",
      "50.47291416666667\n",
      "51.390142499999996\n",
      "51.45420361111112\n",
      "65.3662175\n",
      "66.51479305555557\n",
      "70.76696527777779\n",
      "71.98741611111112\n",
      "73.6589436111111\n",
      "74.30853166666668\n",
      "76.94037694444444\n",
      "95.29265222222223\n",
      "101.59361083333334\n",
      "101.6272261111111\n",
      "101.65476833333332\n",
      "102.68267027777779\n",
      "102.69330305555556\n",
      "107.87287944444445\n",
      "137.48756444444444\n",
      "139.24952638888888\n",
      "148.64668666666665\n",
      "170.480455\n",
      "189.64386249999998\n",
      "189.96302555555556\n",
      "190.50571277777777\n",
      "190.67772722222222\n",
      "213.1018138888889\n",
      "220.43777944444446\n",
      "231.3421038888889\n",
      "237.81490444444447\n",
      "250.55510083333337\n",
      "357.5119669444444\n",
      "436.00827250000003\n",
      "484.3928080555556\n",
      "608.3570794444444\n"
     ]
    }
   ],
   "source": [
    "k= 'https://bitcoinexchangeguide.com/dubais-palmex-exchange-granted-regulatory-sandbox-license-by-bahrain/'\n",
    "k=url\n",
    "tweet_list = p[k]['tweets']\n",
    "news_time = p[k]['tweets'][0]['timestamp_ms']\n",
    "for i in tweet_list:\n",
    "    time_diff = (i['timestamp_ms'] - news_time)/60/60/1000\n",
    "    print(time_diff)\n",
    "    i['time_diff'] = time_diff\n",
    "    i['time_zone'] = i['time_diff'] / INTERVAL // 1 * INTERVAL # according to interval"
   ]
  },
  {
   "cell_type": "code",
   "execution_count": null,
   "metadata": {},
   "outputs": [],
   "source": []
  },
  {
   "cell_type": "code",
   "execution_count": null,
   "metadata": {},
   "outputs": [],
   "source": []
  },
  {
   "cell_type": "code",
   "execution_count": 92,
   "metadata": {},
   "outputs": [],
   "source": [
    "url='https://www.theguardian.com/technology/2018/nov/05/energy-cost-of-mining-bitcoin-more-than-twice-that-of-copper-or-gold'"
   ]
  },
  {
   "cell_type": "code",
   "execution_count": null,
   "metadata": {},
   "outputs": [],
   "source": [
    "df_ts=pd.read_pickle('./data/time_series.p')"
   ]
  },
  {
   "cell_type": "code",
   "execution_count": null,
   "metadata": {},
   "outputs": [],
   "source": [
    "a = list(df_all[df_all['url']==url]['time_list'])\n",
    "b = list(df_all[df_all['url']==url]['tw_list'])"
   ]
  },
  {
   "cell_type": "code",
   "execution_count": null,
   "metadata": {},
   "outputs": [],
   "source": [
    "a"
   ]
  },
  {
   "cell_type": "code",
   "execution_count": null,
   "metadata": {},
   "outputs": [],
   "source": [
    "b[0][4:8]"
   ]
  },
  {
   "cell_type": "code",
   "execution_count": null,
   "metadata": {},
   "outputs": [],
   "source": [
    "for x,y in zip(a[0][4:8],b[0][4:8]):\n",
    "    print(x)\n",
    "    print(y)"
   ]
  },
  {
   "cell_type": "code",
   "execution_count": null,
   "metadata": {},
   "outputs": [],
   "source": []
  }
 ],
 "metadata": {
  "kernelspec": {
   "display_name": "Python 3",
   "language": "python",
   "name": "python3"
  },
  "language_info": {
   "codemirror_mode": {
    "name": "ipython",
    "version": 3
   },
   "file_extension": ".py",
   "mimetype": "text/x-python",
   "name": "python",
   "nbconvert_exporter": "python",
   "pygments_lexer": "ipython3",
   "version": "3.6.5"
  }
 },
 "nbformat": 4,
 "nbformat_minor": 2
}
